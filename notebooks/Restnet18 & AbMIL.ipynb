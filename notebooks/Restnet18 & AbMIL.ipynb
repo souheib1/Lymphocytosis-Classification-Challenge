{
 "cells": [
  {
   "cell_type": "markdown",
   "metadata": {},
   "source": [
    "## ResNet18 + AbMIL"
   ]
  },
  {
   "cell_type": "markdown",
   "metadata": {},
   "source": [
    "In this notebook we uesd ResNet18 as a feature extractor and AbMIL model to predict the classes of the patients."
   ]
  },
  {
   "cell_type": "code",
   "execution_count": 1,
   "metadata": {},
   "outputs": [],
   "source": [
    "import warnings\n",
    "import os\n",
    "import numpy as np\n",
    "import torch\n",
    "import torchvision.transforms as transforms\n",
    "import torchvision.models as models\n",
    "import torch.optim as optim\n",
    "import torch.nn as nn\n",
    "import matplotlib.pyplot as plt\n",
    "from torch.autograd import Variable\n",
    "from torch.optim.lr_scheduler import ReduceLROnPlateau\n",
    "from sklearn.model_selection import train_test_split\n",
    "warnings.filterwarnings(\"ignore\")"
   ]
  },
  {
   "cell_type": "markdown",
   "metadata": {},
   "source": [
    "### 1- Resnet18 backbone to generate feature vectors"
   ]
  },
  {
   "cell_type": "code",
   "execution_count": 2,
   "metadata": {},
   "outputs": [],
   "source": [
    "# Define device\n",
    "device = torch.device(\"cuda:0\" if torch.cuda.is_available() else \"cpu\")\n",
    "resnet = models.resnet18(pretrained=True)\n",
    "\n",
    "backbone = torch.nn.Sequential(*list(resnet.children())[:-1])\n",
    "for param in backbone.parameters():\n",
    "    param.requires_grad = False\n",
    "model1 = torch.nn.Sequential(backbone, torch.nn.Flatten()).to(device)\n",
    "\n",
    "transform = transforms.Compose([\n",
    "    transforms.Resize((224, 224)),  # Resize image to fit ResNet input size\n",
    "    transforms.ToTensor(),\n",
    "    transforms.Normalize(mean=[0.485, 0.456, 0.406], std=[0.229, 0.224, 0.225]),  # Normalize with ImageNet mean and std\n",
    "    transforms.Lambda(lambda x: x.unsqueeze(0)) \n",
    "])"
   ]
  },
  {
   "cell_type": "markdown",
   "metadata": {},
   "source": [
    "### 2 - Data Laoding:"
   ]
  },
  {
   "cell_type": "code",
   "execution_count": 3,
   "metadata": {},
   "outputs": [],
   "source": [
    "from Patient import Patient, PatientDataset\n",
    "from utils import preprocess_metadata\n",
    "from AbMIL import PatientAMIL"
   ]
  },
  {
   "cell_type": "code",
   "execution_count": 4,
   "metadata": {},
   "outputs": [
    {
     "name": "stdout",
     "output_type": "stream",
     "text": [
      "Number of train patients: 163\n",
      "Number of test patients: 42\n"
     ]
    }
   ],
   "source": [
    "train_set_meta, test_set_meta = preprocess_metadata()\n",
    "train_dataset = []\n",
    "test_dataset = []\n",
    "\n",
    "# Load train patients\n",
    "for patient_id in train_set_meta.index:\n",
    "    patient_info = train_set_meta.loc[patient_id]\n",
    "    images_path = os.path.join('../dataset/trainset', patient_id)\n",
    "    label = patient_info['LABEL']\n",
    "    patient = Patient(ID=patient_id,\n",
    "                      age=patient_info['AGE'],\n",
    "                      gender=patient_info['GENDER'],\n",
    "                      lymph_count=patient_info['LYMPH_COUNT'],\n",
    "                      images_path=images_path,\n",
    "                      label=label,\n",
    "                      model=model1)  \n",
    "    train_dataset.append(patient)\n",
    "\n",
    "# Load test patients\n",
    "for patient_id in test_set_meta.index:\n",
    "    patient_info = test_set_meta.loc[patient_id]\n",
    "    images_path = os.path.join('../dataset/testset', patient_id)\n",
    "    patient = Patient(ID=patient_id,\n",
    "                      age=patient_info['AGE'],\n",
    "                      gender=patient_info['GENDER'],\n",
    "                      lymph_count=patient_info['LYMPH_COUNT'],\n",
    "                      images_path=images_path,\n",
    "                      model=model1)  \n",
    "    test_dataset.append(patient)\n",
    "\n",
    "# Extract features or load features from CSV and save features to CSV\n",
    "for dataset in [train_dataset, test_dataset]:\n",
    "    for patient in dataset:\n",
    "        patient.extract_features()\n",
    "\n",
    "# Print the number of train/test patients\n",
    "print(f\"Number of train patients: {len(train_dataset)}\")\n",
    "print(f\"Number of test patients: {len(test_dataset)}\")"
   ]
  },
  {
   "cell_type": "code",
   "execution_count": 5,
   "metadata": {},
   "outputs": [
    {
     "name": "stdout",
     "output_type": "stream",
     "text": [
      "Patient ID: P26, Age: 91.0, Gender: 0.0, Lymphocyte Count: 11.2, Label: 1.0, Number of Images: 100\n",
      "Number of features 102 of size 512\n",
      "last two feautures are encoded age and lymph count\n"
     ]
    }
   ],
   "source": [
    "#example\n",
    "sample = train_dataset[0]\n",
    "print(sample)\n",
    "print(\"Number of features\", len(sample.features), \"of size\",len(sample.features[0]))\n",
    "print(\"last two feautures are encoded age and lymph count\")\n"
   ]
  },
  {
   "cell_type": "markdown",
   "metadata": {},
   "source": [
    "- Each patient has number of images + 2 features (corresponding to age / lymph count) of size 512 (dimension of the feature vector of resnet18)\n",
    "- Patients are supposed to be bags of instances, where each instance corresponds to a feature. \n",
    "- We used 40% of parients for validation"
   ]
  },
  {
   "cell_type": "code",
   "execution_count": 7,
   "metadata": {},
   "outputs": [
    {
     "name": "stdout",
     "output_type": "stream",
     "text": [
      "Number of train patients: 97\n",
      "Number of validation patients: 66\n",
      "Number of test patients: 42\n"
     ]
    }
   ],
   "source": [
    "train_data = []\n",
    "for patient in train_dataset:\n",
    "    train_data.append((patient.features, patient.label))\n",
    "\n",
    "test_data = []\n",
    "for patient in test_dataset:\n",
    "    test_data.append((patient.features, patient.label))\n",
    "\n",
    "\n",
    "train_data, val_data = train_test_split(train_data, test_size=0.4, random_state=42,stratify=train_set_meta['SUBGROUP'])\n",
    "print(f\"Number of train patients: {len(train_data)}\")\n",
    "print(f\"Number of validation patients: {len(val_data)}\")\n",
    "print(f\"Number of test patients: {len(test_data)}\")\n",
    "\n",
    "batch_size = 16\n",
    "\n",
    "train_set = PatientDataset(train_data)\n",
    "val_set = PatientDataset(val_data)"
   ]
  },
  {
   "cell_type": "markdown",
   "metadata": {},
   "source": [
    "### Training the AbMIL Model"
   ]
  },
  {
   "cell_type": "code",
   "execution_count": 12,
   "metadata": {},
   "outputs": [
    {
     "name": "stdout",
     "output_type": "stream",
     "text": [
      "Balanced Accuracy on the validation set: 69.70%\n",
      "Best model saved.\n",
      "Epoch 5, Train Loss: 0.5607313816387629\n",
      "Epoch 5, Val Loss: 0.5339105467904698\n",
      "Balanced Accuracy on the validation set: 71.21%\n",
      "Best model saved.\n",
      "Epoch 10, Train Loss: 0.4362104829669613\n",
      "Epoch 10, Val Loss: 0.42460769025439565\n",
      "Balanced Accuracy on the validation set: 75.76%\n",
      "Best model saved.\n",
      "Balanced Accuracy on the validation set: 84.85%\n",
      "Best model saved.\n",
      "Epoch 15, Train Loss: 0.32683221027783127\n",
      "Epoch 15, Val Loss: 0.35135309527995007\n",
      "Epoch 20, Train Loss: 0.2816705277499253\n",
      "Epoch 20, Val Loss: 0.3413701911675603\n",
      "Epoch 25, Train Loss: 0.2605800709428239\n",
      "Epoch 25, Val Loss: 0.3450511351124574\n",
      "Epoch 30, Train Loss: 0.241538320936052\n",
      "Epoch 30, Val Loss: 0.3543922167933267\n",
      "Epoch 35, Train Loss: 0.21922612874704167\n",
      "Epoch 35, Val Loss: 0.37854570535354826\n",
      "Epoch 40, Train Loss: 0.1973701130679316\n",
      "Epoch 40, Val Loss: 0.42544821059856064\n",
      "Epoch 45, Train Loss: 0.1812207579797833\n",
      "Epoch 45, Val Loss: 0.48539603090453565\n",
      "Epoch 50, Train Loss: 0.17234753780342113\n",
      "Epoch 50, Val Loss: 0.5437794070202258\n"
     ]
    },
    {
     "data": {
      "image/png": "[encoded data removed]",
      "text/plain": [
       "<Figure size 720x360 with 1 Axes>"
      ]
     },
     "metadata": {
      "needs_background": "light"
     },
     "output_type": "display_data"
    }
   ],
   "source": [
    "input_dim = 512  \n",
    "hidden_dim = 256 \n",
    "n_classes = 2  \n",
    "model = PatientAMIL(input_dim=input_dim, hidden_dim=hidden_dim, n_classes=n_classes)\n",
    "criterion = nn.CrossEntropyLoss()\n",
    "optimizer = optim.Adam(model.parameters(), lr=0.0001)\n",
    "\n",
    "# Add a learning rate scheduler\n",
    "lr_scheduler = ReduceLROnPlateau(optimizer, mode='min', factor=0.7, patience=3, verbose=True, min_lr=1e-7)\n",
    "\n",
    "# Training loop\n",
    "num_epochs = 50\n",
    "best_balanced_accuracy = 0.0\n",
    "best_model_path = 'best_model_resnet18_Abmil.pth'  # Path to save the best model\n",
    "\n",
    "device = torch.device(\"cuda\" if torch.cuda.is_available() else \"cpu\")\n",
    "model.to(device)\n",
    "\n",
    "train_losses = []\n",
    "val_losses = []\n",
    "\n",
    "# Training loop\n",
    "for epoch in range(num_epochs):\n",
    "    model.train()\n",
    "    train_loss = 0.0\n",
    "    \n",
    "    for batch_features, batch_labels in train_set:\n",
    "        batch_features, batch_labels = batch_features.to(device), batch_labels.to(device)\n",
    "        optimizer.zero_grad()\n",
    "        outputs, _, _ = model(batch_features)\n",
    "        loss = criterion(outputs, batch_labels.long())\n",
    "        loss.backward()\n",
    "        optimizer.step()\n",
    "        train_loss += loss.item()\n",
    "    \n",
    "    train_losses.append(train_loss / len(train_set))\n",
    "    if (epoch+1)%5 == 0:\n",
    "        print(f\"Epoch {epoch+1}, Train Loss: {train_loss / len(train_set)}\")\n",
    "    \n",
    "    # Validation\n",
    "    model.eval()\n",
    "    val_loss = 0.0\n",
    "    correct_val = 0\n",
    "    total_val = 0\n",
    "    with torch.no_grad():\n",
    "        for batch_features, batch_labels in val_set:\n",
    "            batch_features, batch_labels = batch_features.to(device), batch_labels.to(device)\n",
    "            outputs, _, _ = model(batch_features)\n",
    "            loss = criterion(outputs, batch_labels.long())\n",
    "            val_loss += loss.item()\n",
    "            _, predicted_val = torch.max(outputs, 1)\n",
    "            total_val += batch_labels.size(0)\n",
    "            correct_val += (predicted_val == batch_labels).sum().item()\n",
    "\n",
    "    val_losses.append(val_loss / len(val_set))\n",
    "    val_accuracy = correct_val / total_val\n",
    "    if (epoch+1)%5 == 0:\n",
    "        print(f\"Epoch {epoch+1}, Val Loss: {val_losses[-1]}\")\n",
    "    if val_accuracy > best_balanced_accuracy:\n",
    "        best_balanced_accuracy = val_accuracy\n",
    "        torch.save(model.state_dict(), best_model_path)\n",
    "        print(f\"Balanced Accuracy on the validation set: {100 * val_accuracy:.2f}%\")\n",
    "        print(\"Best model saved.\")\n",
    "\n",
    "    lr_scheduler.step(train_losses[-1])  # Pass the last training loss for learning rate scheduler\n",
    "\n",
    "# Plotting the losses\n",
    "plt.figure(figsize=(10, 5))\n",
    "plt.plot(range(1, num_epochs + 1), train_losses, label='Training Loss')\n",
    "plt.plot(range(1, num_epochs + 1), val_losses, label='Validation Loss')\n",
    "plt.xlabel('Epoch')\n",
    "plt.ylabel('Loss')\n",
    "plt.title('Training and Validation Losses')\n",
    "plt.legend()\n",
    "plt.grid(True)\n",
    "plt.show()"
   ]
  },
  {
   "cell_type": "markdown",
   "metadata": {},
   "source": [
    "- We trained the model to predict the labels of the subjects and we monitored the training using the validation balanced accuracy. We can see in the figure that the model overfits at the end. However, we saved the model from the epoch 13 for which we had the minimal validation loss to be used in for the test set and 84.85% of balanced accuracy."
   ]
  },
  {
   "cell_type": "code",
   "execution_count": 10,
   "metadata": {},
   "outputs": [
    {
     "name": "stdout",
     "output_type": "stream",
     "text": [
      "{'P71': 1, 'P16': 1, 'P114': 0, 'P170': 0, 'P98': 1, 'P69': 1, 'P92': 1, 'P132': 1, 'P81': 1, 'P73': 0, 'P143': 1, 'P175': 1, 'P56': 1, 'P139': 1, 'P152': 1, 'P203': 1, 'P75': 1, 'P9': 1, 'P24': 0, 'P4': 1, 'P32': 1, 'P120': 1, 'P138': 1, 'P172': 1, 'P57': 0, 'P195': 1, 'P68': 0, 'P133': 1, 'P14': 1, 'P119': 1, 'P7': 0, 'P49': 1, 'P93': 1, 'P178': 1, 'P58': 1, 'P108': 1, 'P197': 1, 'P196': 1, 'P86': 0, 'P18': 0, 'P188': 0, 'P148': 0}\n"
     ]
    }
   ],
   "source": [
    "best_model = PatientAMIL(input_dim=input_dim, hidden_dim=hidden_dim, n_classes=n_classes)\n",
    "best_model.load_state_dict(torch.load(best_model_path))\n",
    "best_model.to(device)\n",
    "best_model.eval()\n",
    "\n",
    "# Generate predictions for the test set\n",
    "predictions = []\n",
    "with torch.no_grad():\n",
    "    predictions = {}\n",
    "    for patient in test_dataset:\n",
    "        batch_features = torch.from_numpy(np.array(patient.features)).to(device)\n",
    "        outputs, _, _ = best_model(batch_features)\n",
    "        _, predicted = torch.max(outputs, 1)\n",
    "        predictions[patient.ID] = predicted.item()\n",
    "print(predictions)\n",
    "\n",
    "with open('predictions.csv', 'w') as f:\n",
    "    f.write(\"Id,Predicted\\n\")\n",
    "    for patient_id, prediction in predictions.items():\n",
    "        f.write(f\"{patient_id},{prediction}\\n\")\n"
   ]
  },
  {
   "cell_type": "code",
   "execution_count": null,
   "metadata": {},
   "outputs": [],
   "source": []
  }
 ],
 "metadata": {
  "kernelspec": {
   "display_name": "allwhatyouneed",
   "language": "python",
   "name": "python3"
  },
  "language_info": {
   "codemirror_mode": {
    "name": "ipython",
    "version": 3
   },
   "file_extension": ".py",
   "mimetype": "text/x-python",
   "name": "python",
   "nbconvert_exporter": "python",
   "pygments_lexer": "ipython3",
   "version": "3.9.7"
  }
 },
 "nbformat": 4,
 "nbformat_minor": 2
}
