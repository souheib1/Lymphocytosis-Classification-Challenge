{
  "cells": [
    {
      "cell_type": "markdown",
      "source": [
        "# DeepSets Architecture\n",
        "\n",
        "This notebook implements the end-to-end DeepSets architecture to predict label from the set of images of a patient\n"
      ],
      "metadata": {
        "id": "Tz5vn8oAi62G"
      }
    },
    {
      "cell_type": "markdown",
      "source": [
        "### Set up"
      ],
      "metadata": {
        "id": "_-JQvFcMjg1o"
      }
    },
    {
      "cell_type": "code",
      "execution_count": 2,
      "metadata": {
        "id": "Ttl6Iy8QhuqA"
      },
      "outputs": [],
      "source": [
        "import pandas as pd\n",
        "from datetime import datetime\n",
        "import warnings\n",
        "import matplotlib.pyplot as plt\n",
        "import seaborn as sns\n",
        "import os\n",
        "from PIL import Image\n",
        "import numpy as np\n",
        "import torch\n",
        "from torch.utils.data import Dataset, DataLoader, random_split\n",
        "from torchvision.transforms import ToTensor\n",
        "import torchvision.transforms as transforms\n",
        "from torchvision.transforms import v2\n",
        "\n",
        "from sklearn.model_selection import train_test_split\n",
        "import torch.nn as nn\n",
        "\n",
        "from time import time\n",
        "\n",
        "import torchvision.models as models\n",
        "import csv\n",
        "import cv2\n",
        "from skimage.morphology import binary_dilation,disk\n",
        "from tqdm import tqdm\n",
        "\n",
        "#import sys\n",
        "#sys.path.append(\"../\")\n",
        "#import preprocess_metadata\n",
        "warnings.filterwarnings(\"ignore\")\n"
      ]
    },
    {
      "cell_type": "code",
      "source": [
        "!pip install -q gdown==v5.1.0\n",
        "import gdown\n",
        "file_id = \"1aFL2eAJJSjcSV3yuOBHc6ZgJ1jGC29eB\"\n",
        "output_file = \"dataset.zip\"\n",
        "gdown.download(f\"https://drive.google.com/uc?id={file_id}\", output_file)\n",
        "!unzip -q dataset.zip\n",
        "!rm dataset.zip"
      ],
      "metadata": {
        "id": "KsBlsCk1imO2",
        "colab": {
          "base_uri": "https://localhost:8080/"
        },
        "outputId": "56e65529-e5f7-4a4f-cfa2-6c2695f1fc4d"
      },
      "execution_count": 3,
      "outputs": [
        {
          "output_type": "stream",
          "name": "stderr",
          "text": [
            "Downloading...\n",
            "From (original): https://drive.google.com/uc?id=1aFL2eAJJSjcSV3yuOBHc6ZgJ1jGC29eB\n",
            "From (redirected): https://drive.google.com/uc?id=1aFL2eAJJSjcSV3yuOBHc6ZgJ1jGC29eB&confirm=t&uuid=93f9de11-55d3-48ed-a288-b1cab302fb1d\n",
            "To: /content/dataset.zip\n",
            "100%|██████████| 299M/299M [00:02<00:00, 102MB/s]\n"
          ]
        }
      ]
    },
    {
      "cell_type": "markdown",
      "source": [
        "## Load metadata"
      ],
      "metadata": {
        "id": "HJ5Ju3-z4EPr"
      }
    },
    {
      "cell_type": "code",
      "source": [
        "def preprocess_metadata(path_data='dataset/'):\n",
        "    \"\"\"\n",
        "    Preprocesses metadata from clinical annotation CSV file.\n",
        "    \"\"\"\n",
        "    df = pd.read_csv(path_data+\"/clinical_annotation.csv\",index_col=\"ID\")\n",
        "    df['DOB'] = pd.to_datetime(df['DOB'])\n",
        "    current_year = 2024\n",
        "    df['AGE'] = current_year - df['DOB'].dt.year\n",
        "    sex_mapping = {'M': 0, 'F': 1, 'm':0, 'f':1}\n",
        "    df['GENDER'] = df['GENDER'].map(sex_mapping)\n",
        "    df =  df.drop(df.columns[0], axis=1)\n",
        "    df.drop('DOB', axis=1, inplace=True)\n",
        "    train_set = df[df['LABEL'].isin([0, 1])]\n",
        "    test_set = df[df['LABEL'] == -1]\n",
        "\n",
        "    # Add a column for the train set to indicate the subgroup used for stratification\n",
        "    thresh_lymph_count = train_set[\"LYMPH_COUNT\"].median()\n",
        "    thresh_age = train_set[\"AGE\"].median()\n",
        "\n",
        "    # Store the 3 binary variables\n",
        "    train_meta_binary = pd.DataFrame(index=train_set.index)\n",
        "    train_meta_binary[\"LYMPH_COUNT\"] = train_set[\"LYMPH_COUNT\"] > thresh_lymph_count\n",
        "    train_meta_binary[\"AGE\"] = train_set[\"AGE\"] > thresh_age\n",
        "    train_meta_binary[\"LABEL\"] = train_set[\"LABEL\"]\n",
        "\n",
        "    train_set[\"SUBGROUP\"] = train_meta_binary[\"LYMPH_COUNT\"] + 2*train_meta_binary[\"AGE\"] + 4*train_meta_binary[\"LABEL\"]\n",
        "\n",
        "    return train_set, test_set\n",
        "\n"
      ],
      "metadata": {
        "id": "2rXTJNkO4HJY"
      },
      "execution_count": 4,
      "outputs": []
    },
    {
      "cell_type": "code",
      "source": [
        "train_set_meta, test_set_meta = preprocess_metadata(path_data=\"dataset\")\n",
        "print(\"Number of train patients\",train_set_meta.shape[0])\n",
        "print(\"Number of train patients of class 0 :\", train_set_meta[train_set_meta['LABEL'] == 0].shape[0])\n",
        "print(\"Number of train patients of class 1 :\", train_set_meta[train_set_meta['LABEL'] == 1].shape[0])\n",
        "print(\"Number of test patients\",test_set_meta.shape[0])"
      ],
      "metadata": {
        "colab": {
          "base_uri": "https://localhost:8080/"
        },
        "id": "DrVngAD_4MBJ",
        "outputId": "ec7e7e89-93b6-4ac5-862b-b81d3834aa24"
      },
      "execution_count": 6,
      "outputs": [
        {
          "output_type": "stream",
          "name": "stdout",
          "text": [
            "Number of train patients 163\n",
            "Number of train patients of class 0 : 50\n",
            "Number of train patients of class 1 : 113\n",
            "Number of test patients 42\n"
          ]
        }
      ]
    },
    {
      "cell_type": "code",
      "source": [
        "train_set_meta"
      ],
      "metadata": {
        "colab": {
          "base_uri": "https://localhost:8080/",
          "height": 455
        },
        "id": "kLM29eHlBmEk",
        "outputId": "f69ca6dd-4663-4c38-8c2d-018c77bf5ccc"
      },
      "execution_count": 7,
      "outputs": [
        {
          "output_type": "execute_result",
          "data": {
            "text/plain": [
              "      LABEL  GENDER  LYMPH_COUNT  AGE  SUBGROUP\n",
              "ID                                             \n",
              "P26       1       0        11.20   91         7\n",
              "P183      1       0        12.80   82         7\n",
              "P89       1       0         9.60   89         7\n",
              "P123      1       0       122.60   93         7\n",
              "P61       1       1        11.60   93         7\n",
              "...     ...     ...          ...  ...       ...\n",
              "P135      1       0         9.45   73         5\n",
              "P8        0       0         4.91   49         0\n",
              "P130      0       1         4.17   81         2\n",
              "P70       1       0         5.66   37         4\n",
              "P60       0       1         6.42   31         0\n",
              "\n",
              "[163 rows x 5 columns]"
            ],
            "text/html": [
              "\n",
              "  <div id=\"df-1c436dc0-6cfb-49f0-a4f3-94ca506544ab\" class=\"colab-df-container\">\n",
              "    <div>\n",
              "<style scoped>\n",
              "    .dataframe tbody tr th:only-of-type {\n",
              "        vertical-align: middle;\n",
              "    }\n",
              "\n",
              "    .dataframe tbody tr th {\n",
              "        vertical-align: top;\n",
              "    }\n",
              "\n",
              "    .dataframe thead th {\n",
              "        text-align: right;\n",
              "    }\n",
              "</style>\n",
              "<table border=\"1\" class=\"dataframe\">\n",
              "  <thead>\n",
              "    <tr style=\"text-align: right;\">\n",
              "      <th></th>\n",
              "      <th>LABEL</th>\n",
              "      <th>GENDER</th>\n",
              "      <th>LYMPH_COUNT</th>\n",
              "      <th>AGE</th>\n",
              "      <th>SUBGROUP</th>\n",
              "    </tr>\n",
              "    <tr>\n",
              "      <th>ID</th>\n",
              "      <th></th>\n",
              "      <th></th>\n",
              "      <th></th>\n",
              "      <th></th>\n",
              "      <th></th>\n",
              "    </tr>\n",
              "  </thead>\n",
              "  <tbody>\n",
              "    <tr>\n",
              "      <th>P26</th>\n",
              "      <td>1</td>\n",
              "      <td>0</td>\n",
              "      <td>11.20</td>\n",
              "      <td>91</td>\n",
              "      <td>7</td>\n",
              "    </tr>\n",
              "    <tr>\n",
              "      <th>P183</th>\n",
              "      <td>1</td>\n",
              "      <td>0</td>\n",
              "      <td>12.80</td>\n",
              "      <td>82</td>\n",
              "      <td>7</td>\n",
              "    </tr>\n",
              "    <tr>\n",
              "      <th>P89</th>\n",
              "      <td>1</td>\n",
              "      <td>0</td>\n",
              "      <td>9.60</td>\n",
              "      <td>89</td>\n",
              "      <td>7</td>\n",
              "    </tr>\n",
              "    <tr>\n",
              "      <th>P123</th>\n",
              "      <td>1</td>\n",
              "      <td>0</td>\n",
              "      <td>122.60</td>\n",
              "      <td>93</td>\n",
              "      <td>7</td>\n",
              "    </tr>\n",
              "    <tr>\n",
              "      <th>P61</th>\n",
              "      <td>1</td>\n",
              "      <td>1</td>\n",
              "      <td>11.60</td>\n",
              "      <td>93</td>\n",
              "      <td>7</td>\n",
              "    </tr>\n",
              "    <tr>\n",
              "      <th>...</th>\n",
              "      <td>...</td>\n",
              "      <td>...</td>\n",
              "      <td>...</td>\n",
              "      <td>...</td>\n",
              "      <td>...</td>\n",
              "    </tr>\n",
              "    <tr>\n",
              "      <th>P135</th>\n",
              "      <td>1</td>\n",
              "      <td>0</td>\n",
              "      <td>9.45</td>\n",
              "      <td>73</td>\n",
              "      <td>5</td>\n",
              "    </tr>\n",
              "    <tr>\n",
              "      <th>P8</th>\n",
              "      <td>0</td>\n",
              "      <td>0</td>\n",
              "      <td>4.91</td>\n",
              "      <td>49</td>\n",
              "      <td>0</td>\n",
              "    </tr>\n",
              "    <tr>\n",
              "      <th>P130</th>\n",
              "      <td>0</td>\n",
              "      <td>1</td>\n",
              "      <td>4.17</td>\n",
              "      <td>81</td>\n",
              "      <td>2</td>\n",
              "    </tr>\n",
              "    <tr>\n",
              "      <th>P70</th>\n",
              "      <td>1</td>\n",
              "      <td>0</td>\n",
              "      <td>5.66</td>\n",
              "      <td>37</td>\n",
              "      <td>4</td>\n",
              "    </tr>\n",
              "    <tr>\n",
              "      <th>P60</th>\n",
              "      <td>0</td>\n",
              "      <td>1</td>\n",
              "      <td>6.42</td>\n",
              "      <td>31</td>\n",
              "      <td>0</td>\n",
              "    </tr>\n",
              "  </tbody>\n",
              "</table>\n",
              "<p>163 rows × 5 columns</p>\n",
              "</div>\n",
              "    <div class=\"colab-df-buttons\">\n",
              "\n",
              "  <div class=\"colab-df-container\">\n",
              "    <button class=\"colab-df-convert\" onclick=\"convertToInteractive('df-1c436dc0-6cfb-49f0-a4f3-94ca506544ab')\"\n",
              "            title=\"Convert this dataframe to an interactive table.\"\n",
              "            style=\"display:none;\">\n",
              "\n",
              "  <svg xmlns=\"http://www.w3.org/2000/svg\" height=\"24px\" viewBox=\"0 -960 960 960\">\n",
              "    <path d=\"M120-120v-720h720v720H120Zm60-500h600v-160H180v160Zm220 220h160v-160H400v160Zm0 220h160v-160H400v160ZM180-400h160v-160H180v160Zm440 0h160v-160H620v160ZM180-180h160v-160H180v160Zm440 0h160v-160H620v160Z\"/>\n",
              "  </svg>\n",
              "    </button>\n",
              "\n",
              "  <style>\n",
              "    .colab-df-container {\n",
              "      display:flex;\n",
              "      gap: 12px;\n",
              "    }\n",
              "\n",
              "    .colab-df-convert {\n",
              "      background-color: #E8F0FE;\n",
              "      border: none;\n",
              "      border-radius: 50%;\n",
              "      cursor: pointer;\n",
              "      display: none;\n",
              "      fill: #1967D2;\n",
              "      height: 32px;\n",
              "      padding: 0 0 0 0;\n",
              "      width: 32px;\n",
              "    }\n",
              "\n",
              "    .colab-df-convert:hover {\n",
              "      background-color: #E2EBFA;\n",
              "      box-shadow: 0px 1px 2px rgba(60, 64, 67, 0.3), 0px 1px 3px 1px rgba(60, 64, 67, 0.15);\n",
              "      fill: #174EA6;\n",
              "    }\n",
              "\n",
              "    .colab-df-buttons div {\n",
              "      margin-bottom: 4px;\n",
              "    }\n",
              "\n",
              "    [theme=dark] .colab-df-convert {\n",
              "      background-color: #3B4455;\n",
              "      fill: #D2E3FC;\n",
              "    }\n",
              "\n",
              "    [theme=dark] .colab-df-convert:hover {\n",
              "      background-color: #434B5C;\n",
              "      box-shadow: 0px 1px 3px 1px rgba(0, 0, 0, 0.15);\n",
              "      filter: drop-shadow(0px 1px 2px rgba(0, 0, 0, 0.3));\n",
              "      fill: #FFFFFF;\n",
              "    }\n",
              "  </style>\n",
              "\n",
              "    <script>\n",
              "      const buttonEl =\n",
              "        document.querySelector('#df-1c436dc0-6cfb-49f0-a4f3-94ca506544ab button.colab-df-convert');\n",
              "      buttonEl.style.display =\n",
              "        google.colab.kernel.accessAllowed ? 'block' : 'none';\n",
              "\n",
              "      async function convertToInteractive(key) {\n",
              "        const element = document.querySelector('#df-1c436dc0-6cfb-49f0-a4f3-94ca506544ab');\n",
              "        const dataTable =\n",
              "          await google.colab.kernel.invokeFunction('convertToInteractive',\n",
              "                                                    [key], {});\n",
              "        if (!dataTable) return;\n",
              "\n",
              "        const docLinkHtml = 'Like what you see? Visit the ' +\n",
              "          '<a target=\"_blank\" href=https://colab.research.google.com/notebooks/data_table.ipynb>data table notebook</a>'\n",
              "          + ' to learn more about interactive tables.';\n",
              "        element.innerHTML = '';\n",
              "        dataTable['output_type'] = 'display_data';\n",
              "        await google.colab.output.renderOutput(dataTable, element);\n",
              "        const docLink = document.createElement('div');\n",
              "        docLink.innerHTML = docLinkHtml;\n",
              "        element.appendChild(docLink);\n",
              "      }\n",
              "    </script>\n",
              "  </div>\n",
              "\n",
              "\n",
              "<div id=\"df-3df27a6c-b068-450f-9ded-77bb74e17a63\">\n",
              "  <button class=\"colab-df-quickchart\" onclick=\"quickchart('df-3df27a6c-b068-450f-9ded-77bb74e17a63')\"\n",
              "            title=\"Suggest charts\"\n",
              "            style=\"display:none;\">\n",
              "\n",
              "<svg xmlns=\"http://www.w3.org/2000/svg\" height=\"24px\"viewBox=\"0 0 24 24\"\n",
              "     width=\"24px\">\n",
              "    <g>\n",
              "        <path d=\"M19 3H5c-1.1 0-2 .9-2 2v14c0 1.1.9 2 2 2h14c1.1 0 2-.9 2-2V5c0-1.1-.9-2-2-2zM9 17H7v-7h2v7zm4 0h-2V7h2v10zm4 0h-2v-4h2v4z\"/>\n",
              "    </g>\n",
              "</svg>\n",
              "  </button>\n",
              "\n",
              "<style>\n",
              "  .colab-df-quickchart {\n",
              "      --bg-color: #E8F0FE;\n",
              "      --fill-color: #1967D2;\n",
              "      --hover-bg-color: #E2EBFA;\n",
              "      --hover-fill-color: #174EA6;\n",
              "      --disabled-fill-color: #AAA;\n",
              "      --disabled-bg-color: #DDD;\n",
              "  }\n",
              "\n",
              "  [theme=dark] .colab-df-quickchart {\n",
              "      --bg-color: #3B4455;\n",
              "      --fill-color: #D2E3FC;\n",
              "      --hover-bg-color: #434B5C;\n",
              "      --hover-fill-color: #FFFFFF;\n",
              "      --disabled-bg-color: #3B4455;\n",
              "      --disabled-fill-color: #666;\n",
              "  }\n",
              "\n",
              "  .colab-df-quickchart {\n",
              "    background-color: var(--bg-color);\n",
              "    border: none;\n",
              "    border-radius: 50%;\n",
              "    cursor: pointer;\n",
              "    display: none;\n",
              "    fill: var(--fill-color);\n",
              "    height: 32px;\n",
              "    padding: 0;\n",
              "    width: 32px;\n",
              "  }\n",
              "\n",
              "  .colab-df-quickchart:hover {\n",
              "    background-color: var(--hover-bg-color);\n",
              "    box-shadow: 0 1px 2px rgba(60, 64, 67, 0.3), 0 1px 3px 1px rgba(60, 64, 67, 0.15);\n",
              "    fill: var(--button-hover-fill-color);\n",
              "  }\n",
              "\n",
              "  .colab-df-quickchart-complete:disabled,\n",
              "  .colab-df-quickchart-complete:disabled:hover {\n",
              "    background-color: var(--disabled-bg-color);\n",
              "    fill: var(--disabled-fill-color);\n",
              "    box-shadow: none;\n",
              "  }\n",
              "\n",
              "  .colab-df-spinner {\n",
              "    border: 2px solid var(--fill-color);\n",
              "    border-color: transparent;\n",
              "    border-bottom-color: var(--fill-color);\n",
              "    animation:\n",
              "      spin 1s steps(1) infinite;\n",
              "  }\n",
              "\n",
              "  @keyframes spin {\n",
              "    0% {\n",
              "      border-color: transparent;\n",
              "      border-bottom-color: var(--fill-color);\n",
              "      border-left-color: var(--fill-color);\n",
              "    }\n",
              "    20% {\n",
              "      border-color: transparent;\n",
              "      border-left-color: var(--fill-color);\n",
              "      border-top-color: var(--fill-color);\n",
              "    }\n",
              "    30% {\n",
              "      border-color: transparent;\n",
              "      border-left-color: var(--fill-color);\n",
              "      border-top-color: var(--fill-color);\n",
              "      border-right-color: var(--fill-color);\n",
              "    }\n",
              "    40% {\n",
              "      border-color: transparent;\n",
              "      border-right-color: var(--fill-color);\n",
              "      border-top-color: var(--fill-color);\n",
              "    }\n",
              "    60% {\n",
              "      border-color: transparent;\n",
              "      border-right-color: var(--fill-color);\n",
              "    }\n",
              "    80% {\n",
              "      border-color: transparent;\n",
              "      border-right-color: var(--fill-color);\n",
              "      border-bottom-color: var(--fill-color);\n",
              "    }\n",
              "    90% {\n",
              "      border-color: transparent;\n",
              "      border-bottom-color: var(--fill-color);\n",
              "    }\n",
              "  }\n",
              "</style>\n",
              "\n",
              "  <script>\n",
              "    async function quickchart(key) {\n",
              "      const quickchartButtonEl =\n",
              "        document.querySelector('#' + key + ' button');\n",
              "      quickchartButtonEl.disabled = true;  // To prevent multiple clicks.\n",
              "      quickchartButtonEl.classList.add('colab-df-spinner');\n",
              "      try {\n",
              "        const charts = await google.colab.kernel.invokeFunction(\n",
              "            'suggestCharts', [key], {});\n",
              "      } catch (error) {\n",
              "        console.error('Error during call to suggestCharts:', error);\n",
              "      }\n",
              "      quickchartButtonEl.classList.remove('colab-df-spinner');\n",
              "      quickchartButtonEl.classList.add('colab-df-quickchart-complete');\n",
              "    }\n",
              "    (() => {\n",
              "      let quickchartButtonEl =\n",
              "        document.querySelector('#df-3df27a6c-b068-450f-9ded-77bb74e17a63 button');\n",
              "      quickchartButtonEl.style.display =\n",
              "        google.colab.kernel.accessAllowed ? 'block' : 'none';\n",
              "    })();\n",
              "  </script>\n",
              "</div>\n",
              "    </div>\n",
              "  </div>\n"
            ],
            "application/vnd.google.colaboratory.intrinsic+json": {
              "type": "dataframe",
              "variable_name": "train_set_meta",
              "summary": "{\n  \"name\": \"train_set_meta\",\n  \"rows\": 163,\n  \"fields\": [\n    {\n      \"column\": \"ID\",\n      \"properties\": {\n        \"dtype\": \"string\",\n        \"num_unique_values\": 163,\n        \"samples\": [\n          \"P153\",\n          \"P136\",\n          \"P43\"\n        ],\n        \"semantic_type\": \"\",\n        \"description\": \"\"\n      }\n    },\n    {\n      \"column\": \"LABEL\",\n      \"properties\": {\n        \"dtype\": \"number\",\n        \"std\": 0,\n        \"min\": 0,\n        \"max\": 1,\n        \"num_unique_values\": 2,\n        \"samples\": [\n          0,\n          1\n        ],\n        \"semantic_type\": \"\",\n        \"description\": \"\"\n      }\n    },\n    {\n      \"column\": \"GENDER\",\n      \"properties\": {\n        \"dtype\": \"number\",\n        \"std\": 0,\n        \"min\": 0,\n        \"max\": 1,\n        \"num_unique_values\": 2,\n        \"samples\": [\n          1,\n          0\n        ],\n        \"semantic_type\": \"\",\n        \"description\": \"\"\n      }\n    },\n    {\n      \"column\": \"LYMPH_COUNT\",\n      \"properties\": {\n        \"dtype\": \"number\",\n        \"std\": 46.78436504734712,\n        \"min\": 2.28,\n        \"max\": 295.0,\n        \"num_unique_values\": 155,\n        \"samples\": [\n          30.83,\n          4.02\n        ],\n        \"semantic_type\": \"\",\n        \"description\": \"\"\n      }\n    },\n    {\n      \"column\": \"AGE\",\n      \"properties\": {\n        \"dtype\": \"number\",\n        \"std\": 17,\n        \"min\": 26,\n        \"max\": 103,\n        \"num_unique_values\": 58,\n        \"samples\": [\n          91,\n          27\n        ],\n        \"semantic_type\": \"\",\n        \"description\": \"\"\n      }\n    },\n    {\n      \"column\": \"SUBGROUP\",\n      \"properties\": {\n        \"dtype\": \"number\",\n        \"std\": 2,\n        \"min\": 0,\n        \"max\": 7,\n        \"num_unique_values\": 6,\n        \"samples\": [\n          7,\n          0\n        ],\n        \"semantic_type\": \"\",\n        \"description\": \"\"\n      }\n    }\n  ]\n}"
            }
          },
          "metadata": {},
          "execution_count": 7
        }
      ]
    },
    {
      "cell_type": "markdown",
      "source": [
        "## Dataset"
      ],
      "metadata": {
        "id": "YtCS9Bpk3RS5"
      }
    },
    {
      "cell_type": "code",
      "source": [
        "class Patient:\n",
        "    def __init__(self, ID, age, gender, lymph_count, label, images_path,\n",
        "                 max_images=None):\n",
        "        self.ID = ID\n",
        "        self.age = age\n",
        "        self.gender = gender\n",
        "        self.lymph_count = lymph_count\n",
        "        self.images_path = images_path\n",
        "        self.label = label\n",
        "        self.image_list = self.load_images(max_images=max_images)\n",
        "        self.nb_images = len(self.image_list)\n",
        "\n",
        "    def load_images(self, max_images=None):\n",
        "        image_list = []\n",
        "        fnames = os.listdir(self.images_path)\n",
        "\n",
        "        if max_images is not None and max_images < len(fnames):\n",
        "            fnames = np.random.choice(fnames, max_images, replace=False)\n",
        "\n",
        "        for image_file in fnames:\n",
        "            image_path = os.path.join(self.images_path, image_file)\n",
        "            image = Image.open(image_path).convert(\"RGB\")\n",
        "            image_list.append(np.array(image))\n",
        "\n",
        "        return image_list\n",
        "\n",
        "\n",
        "    def __str__(self):\n",
        "        return f\"Patient ID: {self.ID}, Age: {self.age}, Gender: {self.gender}, Lymphocyte Count: {self.lymph_count}, Label: {self.label}, Number of Images: {self.nb_images}\"\n"
      ],
      "metadata": {
        "id": "fNd3xy1M3TWC"
      },
      "execution_count": 8,
      "outputs": []
    },
    {
      "cell_type": "code",
      "source": [
        "class PatientsDataset(Dataset):\n",
        "    def __init__(self, folder_path, patient_ids, metadata, transform, max_images=None):\n",
        "        self.patients = []\n",
        "\n",
        "        print(\"Load patients from \", folder_path, \"...\")\n",
        "        for patient in tqdm(patient_ids): #os.listdir(folder_path)):\n",
        "            patient_path = os.path.join(folder_path, patient)\n",
        "            if not os.path.isdir(patient_path):\n",
        "                continue\n",
        "            patient_info = metadata.loc[patient]\n",
        "            ID = int(patient[1:])\n",
        "\n",
        "            if \"testset\" in folder_path:\n",
        "                self.patients.append(Patient(ID, patient_info['AGE'], patient_info['GENDER'],\n",
        "                                         patient_info['LYMPH_COUNT'], np.nan,\n",
        "                                         patient_path, max_images=max_images))\n",
        "\n",
        "            else:\n",
        "                self.patients.append(Patient(ID, patient_info['AGE'], patient_info['GENDER'],\n",
        "                                         patient_info['LYMPH_COUNT'], patient_info['LABEL'],\n",
        "                                         patient_path, max_images=max_images))\n",
        "        print(\"\\nDone!\")\n",
        "\n",
        "        np.random.shuffle(self.patients)\n",
        "        self.transform = transform\n",
        "        self.device = torch.device(\"cuda:0\" if torch.cuda.is_available() else \"cpu\")\n",
        "\n",
        "\n",
        "    def __len__(self):\n",
        "        return len(self.patients)\n",
        "\n",
        "    def __getitem__(self,i):\n",
        "        \"\"\"\n",
        "        Returns a tuple with the augmented images, the metadata tensor and the label tensor\n",
        "        \"\"\"\n",
        "        patient = self.patients[i]\n",
        "        image_tensor = torch.tensor(np.array(patient.image_list), dtype=torch.float, device=self.device).permute(0, 3, 1, 2)\n",
        "        image_tensor = self.transform(image_tensor)\n",
        "        metadata = torch.tensor([(patient.age-70)/30, patient.gender-0.5, (patient.lymph_count-10)/10],\n",
        "                                dtype=torch.float, device=self.device)\n",
        "        return image_tensor, metadata, torch.tensor(patient.label, dtype=torch.float, device=self.device)"
      ],
      "metadata": {
        "id": "EQJeR-Y15t1w"
      },
      "execution_count": 9,
      "outputs": []
    },
    {
      "cell_type": "code",
      "source": [
        "# Transformation combining data augmentation with normalization\n",
        "transform = v2.Compose([\n",
        "    v2.RandomHorizontalFlip(p=0.5),\n",
        "    v2.RandomVerticalFlip(p=0.5),\n",
        "    v2.RandomApply(torch.nn.ModuleList([v2.RandomRotation((90, 90))]), p=0.5),\n",
        "    v2.RandomResizedCrop(size=(224, 224), scale=(0.7, 1.0), antialias=True),\n",
        "    v2.ToDtype(torch.float32, scale=True),\n",
        "    v2.Normalize(mean=[0.485, 0.456, 0.406], std=[0.229, 0.224, 0.225]),\n",
        "])"
      ],
      "metadata": {
        "id": "tHijmswPHytA"
      },
      "execution_count": 10,
      "outputs": []
    },
    {
      "cell_type": "code",
      "source": [
        "trainset_folder = \"dataset/trainset\"\n",
        "valid_ratio = 0.4\n",
        "train_fnames, valid_fnames = train_test_split(train_set_meta.index, test_size=valid_ratio, stratify=train_set_meta[\"SUBGROUP\"])"
      ],
      "metadata": {
        "id": "9knRO8mN15TE"
      },
      "execution_count": 17,
      "outputs": []
    },
    {
      "cell_type": "code",
      "source": [
        "trainset = PatientsDataset(\"dataset/trainset\", train_fnames, train_set_meta, transform)\n",
        "validset = PatientsDataset(\"dataset/trainset\", valid_fnames, train_set_meta, transform)\n",
        "testset = PatientsDataset(\"dataset/testset\", test_set_meta.index, test_set_meta, transform)\n",
        "\n",
        "print(f\"Number of train patients: {len(trainset)}\")\n",
        "print(f\"Number of validation patients: {len(validset)}\")\n",
        "print(f\"Number of test patients: {len(testset)}\")\n"
      ],
      "metadata": {
        "colab": {
          "base_uri": "https://localhost:8080/"
        },
        "id": "HgwJtcpnAHSD",
        "outputId": "b3ea852e-24b7-466e-f282-001b1a94c1f9"
      },
      "execution_count": 18,
      "outputs": [
        {
          "output_type": "stream",
          "name": "stdout",
          "text": [
            "Load patients from  dataset/trainset ...\n"
          ]
        },
        {
          "output_type": "stream",
          "name": "stderr",
          "text": [
            "100%|██████████| 97/97 [00:06<00:00, 14.04it/s]\n"
          ]
        },
        {
          "output_type": "stream",
          "name": "stdout",
          "text": [
            "\n",
            "Done!\n",
            "Load patients from  dataset/trainset ...\n"
          ]
        },
        {
          "output_type": "stream",
          "name": "stderr",
          "text": [
            "100%|██████████| 66/66 [00:03<00:00, 16.57it/s]\n"
          ]
        },
        {
          "output_type": "stream",
          "name": "stdout",
          "text": [
            "\n",
            "Done!\n",
            "Load patients from  dataset/testset ...\n"
          ]
        },
        {
          "output_type": "stream",
          "name": "stderr",
          "text": [
            "100%|██████████| 42/42 [00:02<00:00, 17.40it/s]"
          ]
        },
        {
          "output_type": "stream",
          "name": "stdout",
          "text": [
            "\n",
            "Done!\n",
            "Number of train patients: 97\n",
            "Number of validation patients: 66\n",
            "Number of test patients: 42\n"
          ]
        },
        {
          "output_type": "stream",
          "name": "stderr",
          "text": [
            "\n"
          ]
        }
      ]
    },
    {
      "cell_type": "markdown",
      "source": [
        "## Model"
      ],
      "metadata": {
        "id": "gM2fyfSZQBEU"
      }
    },
    {
      "cell_type": "code",
      "source": [
        "class MLP(nn.Module):\n",
        "    def __init__(self, dimensions, activation, final_activation):\n",
        "        super(MLP, self).__init__()\n",
        "        self.activation = activation\n",
        "        self.final_activation = final_activation\n",
        "\n",
        "        layers = []\n",
        "        for i in range(len(dimensions)-1):\n",
        "            layers.append(nn.Linear(dimensions[i], dimensions[i+1]))\n",
        "\n",
        "        self.layers = nn.Sequential(*layers)\n",
        "\n",
        "    def forward(self, input):\n",
        "        x = self.layers[0](input)\n",
        "\n",
        "        for layer in self.layers[1:]:\n",
        "            x = self.activation(x)\n",
        "            x = layer(x)\n",
        "\n",
        "        x = self.final_activation(x)\n",
        "        return x\n",
        "\n",
        "class EnsembleNetwork(nn.Module):\n",
        "    def __init__(self, backbone, embedding_dim, freeze_backbone=True):\n",
        "        super(EnsembleNetwork, self).__init__()\n",
        "\n",
        "        if freeze_backbone:\n",
        "            for param in backbone.parameters():\n",
        "                param.requires_grad = False\n",
        "\n",
        "        self.backbone = backbone\n",
        "\n",
        "        self.featuresMLP = MLP([embedding_dim, 128, 32], nn.ReLU(), nn.ReLU())\n",
        "        self.metadataMLP = MLP([3, 8], nn.ReLU(), nn.ReLU())\n",
        "        self.classificationMLP = MLP([32+8, 16, 8, 1], nn.ReLU(), nn.Identity())\n",
        "\n",
        "\n",
        "    def forward(self, images, metadata):\n",
        "        # Takes as the input the tensor all the images of a single patient\n",
        "        feat = self.backbone(images).squeeze(2, 3)\n",
        "\n",
        "        #feat = feat.max(dim=0)[0].unsqueeze(0) # Maxpooling aggregation\n",
        "        feat = feat.mean(dim=0).unsqueeze(0) # Mean aggregation\n",
        "\n",
        "        feat = self.featuresMLP(feat)\n",
        "\n",
        "        metadata_embeddings = self.metadataMLP(metadata)\n",
        "\n",
        "        concat = torch.cat((feat, metadata_embeddings), dim=1)\n",
        "\n",
        "        return self.classificationMLP(concat)"
      ],
      "metadata": {
        "id": "hPFGPupGQCrT"
      },
      "execution_count": 14,
      "outputs": []
    },
    {
      "cell_type": "markdown",
      "source": [
        "### Instantiate the model"
      ],
      "metadata": {
        "id": "vDzFL0IckUSe"
      }
    },
    {
      "cell_type": "code",
      "source": [
        "device = torch.device(\"cuda:0\" if torch.cuda.is_available() else \"cpu\")\n",
        "resnet = models.resnet18(pretrained=True)\n",
        "backbone = torch.nn.Sequential(*list(resnet.children())[:-1])\n",
        "\n",
        "torch.random.manual_seed(0)\n",
        "ensembleNet = EnsembleNetwork(backbone, 512, freeze_backbone=False)#512 for resnet, 6656 for ensembleNet\n",
        "_ = ensembleNet.to(device)"
      ],
      "metadata": {
        "id": "Ftm56QQTTx58"
      },
      "execution_count": 25,
      "outputs": []
    },
    {
      "cell_type": "code",
      "source": [
        "batch_size = 16\n",
        "epochs = 5\n",
        "\n",
        "bceLoss = nn.BCEWithLogitsLoss()\n",
        "optim = torch.optim.Adam(ensembleNet.parameters())\n",
        "\n",
        "dataloader_train = DataLoader(trainset,\n",
        "                              batch_size=1,\n",
        "                              shuffle=True)\n",
        "\n",
        "dataloader_valid = DataLoader(validset,\n",
        "                              batch_size=1,\n",
        "                              shuffle=True)\n",
        "\n",
        "train_losses = []\n",
        "train_accuracies = []\n",
        "valid_losses = []\n",
        "valid_accuracies = []\n",
        "start_epoch_indices = []\n",
        "\n",
        "\n",
        "for e in range(epochs):\n",
        "    print(\"\\nStart epoch\", e)\n",
        "    start_epoch_indices.append(len(train_losses))\n",
        "    batch_loss = 0\n",
        "    correct_predictions = 0\n",
        "\n",
        "    # Training\n",
        "    print(\"Training\")\n",
        "    for k, patient in tqdm(enumerate(dataloader_train)):\n",
        "        images, metadata, label = patient\n",
        "        pred = ensembleNet(images[0], metadata)\n",
        "        loss = bceLoss(pred.reshape(-1), label)\n",
        "        loss.backward()\n",
        "        batch_loss += loss.detach().cpu().numpy()\n",
        "        correct_predictions += ((pred.reshape(-1)>0.5)==label).detach().cpu().numpy()\n",
        "\n",
        "        if (k+1) % batch_size==0:\n",
        "            optim.step()\n",
        "            optim.zero_grad()\n",
        "            train_losses.append(batch_loss / batch_size)\n",
        "            train_accuracies.append(correct_predictions / batch_size)\n",
        "            batch_loss = 0\n",
        "            correct_predictions = 0\n",
        "\n",
        "    print(\"Train loss\", np.mean(train_losses[start_epoch_indices[-1]]), \"Accuracy\", np.mean(train_accuracies[start_epoch_indices[-1]]))\n",
        "\n",
        "    # Validation\n",
        "    print(\"Validation\")\n",
        "    with torch.no_grad():\n",
        "      valid_correct_predictions = 0\n",
        "      valid_loss_epoch = 0\n",
        "      valid_batch_loss = 0\n",
        "      for k, patient in tqdm(enumerate(dataloader_valid)):\n",
        "          images, metadata, label = patient\n",
        "          pred = ensembleNet(images[0], metadata)\n",
        "          loss = bceLoss(pred.reshape(-1), label)\n",
        "          valid_batch_loss += loss.detach().cpu().numpy()\n",
        "          valid_correct_predictions += ((pred.reshape(-1)>0.5)==label).detach().cpu().numpy()\n",
        "\n",
        "      valid_losses.append(valid_batch_loss / k)\n",
        "      valid_accuracies.append(valid_correct_predictions / k)\n",
        "\n",
        "    print(\"Valid loss\", np.mean(valid_losses[-1]), \"Accuracy\", np.mean(valid_accuracies[-1]))\n",
        "torch.save(ensembleNet, \"ensembleNet\")"
      ],
      "metadata": {
        "colab": {
          "base_uri": "https://localhost:8080/"
        },
        "id": "uAtFrcbKpfq6",
        "outputId": "4711f9a3-b98c-454d-a5d2-eb7dd274d6a5"
      },
      "execution_count": 26,
      "outputs": [
        {
          "output_type": "stream",
          "name": "stdout",
          "text": [
            "\n",
            "Start epoch 0\n",
            "Training\n"
          ]
        },
        {
          "output_type": "stream",
          "name": "stderr",
          "text": [
            "97it [00:29,  3.29it/s]\n"
          ]
        },
        {
          "output_type": "stream",
          "name": "stdout",
          "text": [
            "Train loss 0.6218489930033684 Accuracy 0.25\n",
            "Validation\n"
          ]
        },
        {
          "output_type": "stream",
          "name": "stderr",
          "text": [
            "66it [00:08,  7.77it/s]\n"
          ]
        },
        {
          "output_type": "stream",
          "name": "stdout",
          "text": [
            "Valid loss 0.627972398354457 Accuracy 0.7076923076923077\n",
            "\n",
            "Start epoch 1\n",
            "Training\n"
          ]
        },
        {
          "output_type": "stream",
          "name": "stderr",
          "text": [
            "97it [00:28,  3.40it/s]\n"
          ]
        },
        {
          "output_type": "stream",
          "name": "stdout",
          "text": [
            "Train loss 0.6212903559207916 Accuracy 0.6875\n",
            "Validation\n"
          ]
        },
        {
          "output_type": "stream",
          "name": "stderr",
          "text": [
            "66it [00:08,  7.89it/s]\n"
          ]
        },
        {
          "output_type": "stream",
          "name": "stdout",
          "text": [
            "Valid loss 0.6146395307320814 Accuracy 0.7076923076923077\n",
            "\n",
            "Start epoch 2\n",
            "Training\n"
          ]
        },
        {
          "output_type": "stream",
          "name": "stderr",
          "text": [
            "97it [00:28,  3.41it/s]\n"
          ]
        },
        {
          "output_type": "stream",
          "name": "stdout",
          "text": [
            "Train loss 0.6159281022846699 Accuracy 0.6875\n",
            "Validation\n"
          ]
        },
        {
          "output_type": "stream",
          "name": "stderr",
          "text": [
            "66it [00:08,  7.72it/s]\n"
          ]
        },
        {
          "output_type": "stream",
          "name": "stdout",
          "text": [
            "Valid loss 0.618915379505891 Accuracy 0.7076923076923077\n",
            "\n",
            "Start epoch 3\n",
            "Training\n"
          ]
        },
        {
          "output_type": "stream",
          "name": "stderr",
          "text": [
            "97it [00:29,  3.31it/s]\n"
          ]
        },
        {
          "output_type": "stream",
          "name": "stdout",
          "text": [
            "Train loss 0.5611283015459776 Accuracy 0.75\n",
            "Validation\n"
          ]
        },
        {
          "output_type": "stream",
          "name": "stderr",
          "text": [
            "66it [00:11,  5.83it/s]\n"
          ]
        },
        {
          "output_type": "stream",
          "name": "stdout",
          "text": [
            "Valid loss 0.6094990679850945 Accuracy 0.7076923076923077\n",
            "\n",
            "Start epoch 4\n",
            "Training\n"
          ]
        },
        {
          "output_type": "stream",
          "name": "stderr",
          "text": [
            "97it [00:29,  3.26it/s]\n"
          ]
        },
        {
          "output_type": "stream",
          "name": "stdout",
          "text": [
            "Train loss 0.6366031728684902 Accuracy 0.625\n",
            "Validation\n"
          ]
        },
        {
          "output_type": "stream",
          "name": "stderr",
          "text": [
            "66it [00:09,  6.64it/s]"
          ]
        },
        {
          "output_type": "stream",
          "name": "stdout",
          "text": [
            "Valid loss 0.605137393107781 Accuracy 0.7076923076923077\n"
          ]
        },
        {
          "output_type": "stream",
          "name": "stderr",
          "text": [
            "\n"
          ]
        }
      ]
    },
    {
      "cell_type": "code",
      "source": [
        "end_epochs_indices = np.array(start_epoch_indices) + start_epoch_indices[1]\n",
        "\n",
        "plt.plot(train_losses, color=\"Black\", label=\"Training\")\n",
        "plt.scatter(end_epochs_indices, valid_losses, color=\"Black\", label=\"Validation\")\n",
        "plt.title(\"Loss\")\n",
        "plt.legend()\n",
        "plt.show()\n",
        "\n",
        "plt.plot(train_accuracies, color=\"Black\", label=\"Training\")\n",
        "plt.scatter(end_epochs_indices, valid_accuracies, color=\"Black\", label=\"Validation\")\n",
        "plt.title(\"Accuracy\")\n",
        "plt.legend()\n",
        "plt.show()\n"
      ],
      "metadata": {
        "id": "h32u3otuwV41",
        "colab": {
          "base_uri": "https://localhost:8080/",
          "height": 887
        },
        "outputId": "b7a69bed-a6ca-41bc-bd9f-06aea17adc6f"
      },
      "execution_count": 28,
      "outputs": [
        {
          "output_type": "display_data",
          "data": {
            "text/plain": [
              "<Figure size 640x480 with 1 Axes>"
            ],
            "image/png": "[encoded data removed]"
          },
          "metadata": {}
        },
        {
          "output_type": "display_data",
          "data": {
            "text/plain": [
              "<Figure size 640x480 with 1 Axes>"
            ],
            "image/png": "[encoded data removed]"
          },
          "metadata": {}
        }
      ]
    },
    {
      "cell_type": "markdown",
      "source": [
        "## Inference on the test set"
      ],
      "metadata": {
        "id": "-gaRt8mjAT6x"
      }
    },
    {
      "cell_type": "code",
      "source": [
        "model = ensembleNet"
      ],
      "metadata": {
        "id": "J8ZOlhdnJNAy"
      },
      "execution_count": 30,
      "outputs": []
    },
    {
      "cell_type": "code",
      "source": [
        "# Generate predictions for the test set\n",
        "predictions = []\n",
        "with torch.no_grad():\n",
        "    predictions = {}\n",
        "    for i in range(len(testset)):\n",
        "        images, metadata, _ = testset[i]\n",
        "        pred = ensembleNet(images, metadata.unsqueeze(0))\n",
        "\n",
        "        predictions[testset.patients[i].ID] = int((pred > 0.5).cpu().numpy().reshape(-1))\n",
        "\n",
        "print(predictions)\n",
        "\n",
        "with open('predictions.csv', 'w') as f:\n",
        "    f.write(\"ID,Predicted\\n\")\n",
        "    for patient_id, prediction in predictions.items():\n",
        "        f.write(f\"P{patient_id},{prediction}\\n\")\n"
      ],
      "metadata": {
        "colab": {
          "base_uri": "https://localhost:8080/"
        },
        "id": "GzWFRr2eC7z_",
        "outputId": "f0b47db9-1078-47c1-fd1f-30760b8a6de1"
      },
      "execution_count": 31,
      "outputs": [
        {
          "output_type": "stream",
          "name": "stdout",
          "text": [
            "{139: 1, 132: 1, 71: 1, 143: 1, 16: 1, 172: 1, 68: 1, 93: 1, 133: 1, 18: 1, 4: 1, 56: 1, 119: 1, 197: 1, 170: 1, 81: 1, 49: 1, 203: 1, 24: 1, 175: 1, 69: 1, 9: 1, 92: 1, 58: 1, 195: 1, 57: 1, 178: 1, 108: 1, 14: 1, 148: 1, 188: 1, 120: 1, 73: 1, 7: 1, 75: 1, 98: 1, 32: 1, 196: 1, 86: 1, 114: 1, 152: 1, 138: 1}\n"
          ]
        }
      ]
    }
  ],
  "metadata": {
    "kernelspec": {
      "display_name": "Python 3",
      "name": "python3"
    },
    "language_info": {
      "codemirror_mode": {
        "name": "ipython",
        "version": 3
      },
      "file_extension": ".py",
      "mimetype": "text/x-python",
      "name": "python",
      "nbconvert_exporter": "python",
      "pygments_lexer": "ipython3",
      "version": "3.11.5"
    },
    "colab": {
      "provenance": [],
      "gpuType": "T4",
      "collapsed_sections": [
        "fztGDBy6wBIH"
      ]
    },
    "accelerator": "GPU"
  },
  "nbformat": 4,
  "nbformat_minor": 0
}